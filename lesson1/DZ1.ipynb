{
  "nbformat": 4,
  "nbformat_minor": 0,
  "metadata": {
    "colab": {
      "name": "DZ1.ipynb",
      "provenance": [],
      "collapsed_sections": []
    },
    "kernelspec": {
      "name": "python3",
      "display_name": "Python 3"
    }
  },
  "cells": [
    {
      "cell_type": "markdown",
      "metadata": {
        "id": "1J7PULqUi7Si",
        "colab_type": "text"
      },
      "source": [
        "### Задание 1\n",
        "\n",
        "Из колоды в 52 карты извлекаются случайным образом 4 карты.\n",
        " - Найти вероятность того, что все карты – крести. \n",
        " - Найти вероятность, что среди 4-х карт окажется ХОТЯ БЫ один туз.\n"
      ]
    },
    {
      "cell_type": "markdown",
      "metadata": {
        "id": "FRNy_YgmkUR9",
        "colab_type": "text"
      },
      "source": [
        "В колоде 52 карты, каждой масти по 13 штук, следовательно вероятность вытащить крести 4 картами подряд:\n",
        "\n",
        "$$ P(A) = \\frac{13}{52} * \\frac{12}{51} * \\frac{11}{50} *\\frac{10}{49} $$"
      ]
    },
    {
      "cell_type": "code",
      "metadata": {
        "id": "e9YYeN9HjBG6",
        "colab_type": "code",
        "colab": {
          "base_uri": "https://localhost:8080/",
          "height": 109
        },
        "outputId": "7ec25fc5-68c1-4c22-c401-d3ee4fa3516f"
      },
      "source": [
        "koloda = 52\n",
        "kresti = 13\n",
        "prob = 1\n",
        "for _ in range(4):\n",
        "  prob *= kresti / koloda\n",
        "  print(f'Вероятность вытащить только крести из {_+1} карт: {prob:.3f} ({prob*100:.1f}%)')\n",
        "  kresti -= 1\n",
        "  koloda -= 1\n",
        "print(f'Вероятность того, что вытащишь 4 карты крестовых: {prob:.3f}({prob*100:.1f}%)')"
      ],
      "execution_count": 8,
      "outputs": [
        {
          "output_type": "stream",
          "text": [
            "Вероятность вытащить только крести из 1 карт: 0.250 (25.0%)\n",
            "Вероятность вытащить только крести из 2 карт: 0.059 (5.9%)\n",
            "Вероятность вытащить только крести из 3 карт: 0.013 (1.3%)\n",
            "Вероятность вытащить только крести из 4 карт: 0.003 (0.3%)\n",
            "Вероятность того, что вытащишь 4 карты крестовых: 0.003(0.3%)\n"
          ],
          "name": "stdout"
        }
      ]
    },
    {
      "cell_type": "markdown",
      "metadata": {
        "id": "6iGjbd7krE1r",
        "colab_type": "text"
      },
      "source": [
        "Второй вариант решения:\n",
        "- Найти сколько всего сочетаний из 4 карт в колоде\n",
        "- Найти сколько сочетаний есть в колоде из 4 крестей\n",
        "- Поделить второе на первое"
      ]
    },
    {
      "cell_type": "code",
      "metadata": {
        "id": "Z0lw9pnymh9S",
        "colab_type": "code",
        "colab": {}
      },
      "source": [
        "from math import factorial\n",
        "#Функция подсчета комбинаций\n",
        "def combinations(n, k):\n",
        "    return int(factorial(n) / (factorial(k) * factorial(n - k)))\n",
        "\n",
        "#Посмотрим сколько комбинаций есть всего из 52 карт\n",
        "all = combinations(52, 4)"
      ],
      "execution_count": 15,
      "outputs": []
    },
    {
      "cell_type": "code",
      "metadata": {
        "id": "6UxKju1NpuBy",
        "colab_type": "code",
        "colab": {}
      },
      "source": [
        "#Посмотрим сколько комбинаций из 4 крестей есть\n",
        "kresti4 = combinations(13, 4)"
      ],
      "execution_count": 16,
      "outputs": []
    },
    {
      "cell_type": "code",
      "metadata": {
        "id": "Il7D3NsFqP6f",
        "colab_type": "code",
        "colab": {
          "base_uri": "https://localhost:8080/",
          "height": 35
        },
        "outputId": "5198f89c-9e21-4407-e0be-7c44657393ce"
      },
      "source": [
        "print(f'Вероятность того, что вытащишь 4 карты крестовых: {kresti4/all:.3f}({kresti4/all*100:.1f}%)')"
      ],
      "execution_count": 17,
      "outputs": [
        {
          "output_type": "stream",
          "text": [
            "Вероятность того, что вытащишь 4 карты крестовых: 0.003(0.3%)\n"
          ],
          "name": "stdout"
        }
      ]
    },
    {
      "cell_type": "markdown",
      "metadata": {
        "id": "1olYUALzrsl4",
        "colab_type": "text"
      },
      "source": [
        "##### Найти вероятность, что среди 4-х карт окажется ХОТЯ БЫ один туз.\n",
        "Если нам нужен хотя бы 1 туз, мы можем подсчитать вероятность получение комбинаций в которых нет тузов и дальше вычесть из 1"
      ]
    },
    {
      "cell_type": "code",
      "metadata": {
        "id": "v8m3l3assOuP",
        "colab_type": "code",
        "colab": {
          "base_uri": "https://localhost:8080/",
          "height": 127
        },
        "outputId": "51ff49a7-f2ba-4dd5-a6d5-c9c8af53b94e"
      },
      "source": [
        "koloda = 32\n",
        "bez_tuzov = 28\n",
        "prob = 1\n",
        "for _ in range(4):\n",
        "  prob *= bez_tuzov / koloda\n",
        "  print(f'Вероятность вытащить не туза из {_+1} карт: {prob:.3f} ({prob*100:.1f}%)')\n",
        "  bez_tuzov -= 1\n",
        "  koloda -= 1\n",
        "print(f'Вероятность того, что вытащишь 4 карты без тузов: {prob:.3f}({prob*100:.1f}%)')\n",
        "\n",
        "print(f'Вероятность того, что вытащишь 4 карты хотя бы с 1 тузом: {1 - prob:.3f}({(1 - prob)*100:.1f}%)')\n"
      ],
      "execution_count": 24,
      "outputs": [
        {
          "output_type": "stream",
          "text": [
            "Вероятность вытащить не туза из 1 карт: 0.875 (87.5%)\n",
            "Вероятность вытащить не туза из 2 карт: 0.762 (76.2%)\n",
            "Вероятность вытащить не туза из 3 карт: 0.660 (66.0%)\n",
            "Вероятность вытащить не туза из 4 карт: 0.569 (56.9%)\n",
            "Вероятность того, что вытащишь 4 карты без тузов: 0.569(56.9%)\n",
            "Вероятность того, что вытащишь 4 карты хотя бы с 1 тузом: 0.431(43.1%)\n"
          ],
          "name": "stdout"
        }
      ]
    },
    {
      "cell_type": "markdown",
      "metadata": {
        "id": "-VrlrLHQvFhy",
        "colab_type": "text"
      },
      "source": [
        "### Задание 2\n",
        "На входной двери подъезда установлен кодовый замок, содержащий десять кнопок с цифрами от 0 до 9. Код содержит три цифры, которые нужно нажать одновременно. Какова вероятность того, что человек, не знающий код, откроет дверь с первой попытки?"
      ]
    },
    {
      "cell_type": "markdown",
      "metadata": {
        "id": "6VC9UdatwJf4",
        "colab_type": "text"
      },
      "source": [
        "Посчитаем общее кол-во комбинаций, будем использовать сочетание, так как порядок не важен:\n",
        "$$C_{10}^3 = \\frac{10!}{3!(10 - 3)!} = \\frac{10*9*8}{3*2*1}=\\frac{720}{6}=120$$\n",
        "\n",
        "Нам подходит только 1 вариант, следовательно вероятность:\n",
        "$$P(A) = \\frac{1}{120} = 0.0083$$"
      ]
    },
    {
      "cell_type": "code",
      "metadata": {
        "id": "td1qpEaBvLOc",
        "colab_type": "code",
        "colab": {
          "base_uri": "https://localhost:8080/",
          "height": 54
        },
        "outputId": "531efce3-1b5c-4c10-c172-e0b703ddedd4"
      },
      "source": [
        "all_codes = combinations(10, 3)\n",
        "print(f'Всего комбинаций кодов: {all_codes}')\n",
        "print(f'Вероятность открытия с первой попытки: {1/all_codes:.3f} ({(1/all_codes)*100:.3f}%)')"
      ],
      "execution_count": 37,
      "outputs": [
        {
          "output_type": "stream",
          "text": [
            "Всего комбинаций кодов: 120\n",
            "Вероятность открытия с первой попытки: 0.008 (0.833%)\n"
          ],
          "name": "stdout"
        }
      ]
    },
    {
      "cell_type": "markdown",
      "metadata": {
        "id": "DE5FvpoW2Obn",
        "colab_type": "text"
      },
      "source": [
        "### Задание 3\n",
        "В ящике имеется 15 деталей, из которых 9 окрашены. Рабочий случайным образом извлекает 3 детали. Какова вероятность того, что все извлеченные детали окрашены?"
      ]
    },
    {
      "cell_type": "code",
      "metadata": {
        "id": "IkHj-InP2SHY",
        "colab_type": "code",
        "colab": {
          "base_uri": "https://localhost:8080/",
          "height": 35
        },
        "outputId": "c4e778b5-d030-435c-e825-d5c4299cdeec"
      },
      "source": [
        "#Общее кол-во сочетаний деталей если взять 3\n",
        "all = combinations(15, 3)\n",
        "print(f'Всего сочетаний деталей из 3 элементов: {all}')"
      ],
      "execution_count": 38,
      "outputs": [
        {
          "output_type": "stream",
          "text": [
            "Всего сочетаний деталей из 3 элементов: 455\n"
          ],
          "name": "stdout"
        }
      ]
    },
    {
      "cell_type": "code",
      "metadata": {
        "id": "aZEKAstv8oHp",
        "colab_type": "code",
        "colab": {
          "base_uri": "https://localhost:8080/",
          "height": 35
        },
        "outputId": "27e8713a-6fad-467f-d79e-01f1640662be"
      },
      "source": [
        "colored = combinations(9, 3)\n",
        "print(f'Всего сочетаний покрашенных деталей из 3 элементов: {colored}')"
      ],
      "execution_count": 42,
      "outputs": [
        {
          "output_type": "stream",
          "text": [
            "Всего сочетаний покрашенных деталей из 3 элементов: 84\n"
          ],
          "name": "stdout"
        }
      ]
    },
    {
      "cell_type": "code",
      "metadata": {
        "id": "kX4JSKiL81uF",
        "colab_type": "code",
        "colab": {
          "base_uri": "https://localhost:8080/",
          "height": 35
        },
        "outputId": "f88b7b89-209e-4777-d0db-dc60d999e6a2"
      },
      "source": [
        "print(f'Вероятность что все детали покрашены: {colored/all:.3f} ({(1/all_codes)*100:.3f}%)')"
      ],
      "execution_count": 43,
      "outputs": [
        {
          "output_type": "stream",
          "text": [
            "Вероятность что все детали покрашены: 0.185 (0.833%)\n"
          ],
          "name": "stdout"
        }
      ]
    },
    {
      "cell_type": "markdown",
      "metadata": {
        "id": "HOnrYVGG_qgq",
        "colab_type": "text"
      },
      "source": [
        "### Задание 4\n",
        "В лотерее 100 билетов. Из них 2 выигрышных. Какова вероятность того, что 2 приобретенных билета окажутся выигрышными?"
      ]
    },
    {
      "cell_type": "code",
      "metadata": {
        "id": "8H387fvi_v0Z",
        "colab_type": "code",
        "colab": {
          "base_uri": "https://localhost:8080/",
          "height": 35
        },
        "outputId": "26d2af9c-8d8a-4bb3-f043-502019fc5f34"
      },
      "source": [
        "print(f'Вероятность что будут куплены 2 выигрышных билета: {(2/100)*(1/99):.5f} ({(2/100)*(1/99)*100:.5f}%)')"
      ],
      "execution_count": 49,
      "outputs": [
        {
          "output_type": "stream",
          "text": [
            "Вероятность что будут купленны 2 выигрышных билета: 0.00020 (0.02020%)\n"
          ],
          "name": "stdout"
        }
      ]
    },
    {
      "cell_type": "code",
      "metadata": {
        "id": "zv6s5EI7Ac5h",
        "colab_type": "code",
        "colab": {}
      },
      "source": [
        ""
      ],
      "execution_count": null,
      "outputs": []
    }
  ]
}