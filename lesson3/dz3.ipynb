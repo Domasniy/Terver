{
  "nbformat": 4,
  "nbformat_minor": 0,
  "metadata": {
    "colab": {
      "name": "dz3.ipynb",
      "provenance": [],
      "collapsed_sections": []
    },
    "kernelspec": {
      "name": "python3",
      "display_name": "Python 3"
    }
  },
  "cells": [
    {
      "cell_type": "markdown",
      "metadata": {
        "id": "olLqxTkg_xNL",
        "colab_type": "text"
      },
      "source": [
        "### Задание 1\n",
        "Даны значения зарплат из выборки выпускников: 100, 80, 75, 77, 89, 33, 45, 25, 65, 17, 30, 24, 57, 55, 70, 75, 65, 84, 90, 150. Посчитать (желательно без использования статистических методов наподобие std, var, mean) среднее арифметическое, среднее квадратичное отклонение, смещенную и несмещенную оценки дисперсий для данной выборки."
      ]
    },
    {
      "cell_type": "code",
      "metadata": {
        "id": "s-YNOx7F_01Q",
        "colab_type": "code",
        "colab": {}
      },
      "source": [
        "import numpy as np"
      ],
      "execution_count": 1,
      "outputs": []
    },
    {
      "cell_type": "code",
      "metadata": {
        "id": "d4JwFpuL_6EP",
        "colab_type": "code",
        "colab": {}
      },
      "source": [
        "a = np.array([100, 80, 75, 77, 89, 33, 45, 25, 65, 17, 30, 24, 57, 55, 70, 75, 65, 84, 90, 150])"
      ],
      "execution_count": 2,
      "outputs": []
    },
    {
      "cell_type": "code",
      "metadata": {
        "id": "jWzLse8eABzz",
        "colab_type": "code",
        "colab": {}
      },
      "source": [
        "a_mean = a.sum()/len(a)"
      ],
      "execution_count": 3,
      "outputs": []
    },
    {
      "cell_type": "code",
      "metadata": {
        "id": "EkOEggF5ACkw",
        "colab_type": "code",
        "colab": {
          "base_uri": "https://localhost:8080/",
          "height": 35
        },
        "outputId": "26280a19-2ede-4e3f-d405-1556e13eb284"
      },
      "source": [
        "print(f'Cреднее арифметическое зарплат: {a_mean}')"
      ],
      "execution_count": 4,
      "outputs": [
        {
          "output_type": "stream",
          "text": [
            "Cреднее арифметическое зарплат: 65.3\n"
          ],
          "name": "stdout"
        }
      ]
    },
    {
      "cell_type": "code",
      "metadata": {
        "id": "jajp7-SRBHWd",
        "colab_type": "code",
        "colab": {}
      },
      "source": [
        "a_std = np.sqrt(((a - a_mean)**2).sum()/len(a))"
      ],
      "execution_count": 5,
      "outputs": []
    },
    {
      "cell_type": "code",
      "metadata": {
        "id": "s7inm7zoBbV1",
        "colab_type": "code",
        "colab": {
          "base_uri": "https://localhost:8080/",
          "height": 35
        },
        "outputId": "0816b420-df34-4b25-8b7f-007c11dd949d"
      },
      "source": [
        "print(f'Cреднее квадратичное отклонение зарплат: {a_std:.4f}')"
      ],
      "execution_count": 6,
      "outputs": [
        {
          "output_type": "stream",
          "text": [
            "Cреднее квадратичное отклонение зарплат: 30.8239\n"
          ],
          "name": "stdout"
        }
      ]
    },
    {
      "cell_type": "code",
      "metadata": {
        "id": "OgSpAQRXCgKd",
        "colab_type": "code",
        "colab": {}
      },
      "source": [
        "a_var = ((a - a_mean)**2).sum()/len(a)"
      ],
      "execution_count": 7,
      "outputs": []
    },
    {
      "cell_type": "code",
      "metadata": {
        "id": "77UC-1imCwUs",
        "colab_type": "code",
        "colab": {
          "base_uri": "https://localhost:8080/",
          "height": 35
        },
        "outputId": "08247034-4716-41c7-e85a-08da7afe9fbd"
      },
      "source": [
        "print(f'Cмещенная дисперсия зарплат: {a_var}')"
      ],
      "execution_count": 8,
      "outputs": [
        {
          "output_type": "stream",
          "text": [
            "Cмещенная дисперсия зарплат: 950.11\n"
          ],
          "name": "stdout"
        }
      ]
    },
    {
      "cell_type": "code",
      "metadata": {
        "id": "YrsW-ooxCw_m",
        "colab_type": "code",
        "colab": {}
      },
      "source": [
        "a_var1 = ((a - a_mean)**2).sum()/(len(a) - 1)"
      ],
      "execution_count": 9,
      "outputs": []
    },
    {
      "cell_type": "code",
      "metadata": {
        "id": "hJ8ILIa9CyMI",
        "colab_type": "code",
        "colab": {
          "base_uri": "https://localhost:8080/",
          "height": 35
        },
        "outputId": "1524011e-cf8d-4ab8-e10b-80903ac0b059"
      },
      "source": [
        "print(f'Несмещенная дисперсия зарплат: {a_var1:.4f}')"
      ],
      "execution_count": 10,
      "outputs": [
        {
          "output_type": "stream",
          "text": [
            "Несмещенная дисперсия зарплат: 1000.1158\n"
          ],
          "name": "stdout"
        }
      ]
    },
    {
      "cell_type": "markdown",
      "metadata": {
        "id": "bJkdfPG5Ddnm",
        "colab_type": "text"
      },
      "source": [
        "### Задание 2\n",
        "В первом ящике находится 8 мячей, из которых 5 - белые. Во втором ящике - 12 мячей, из которых 5 белых. Из первого ящика вытаскивают случайным образом два мяча, из второго - 4. Какова вероятность того, что 3 мяча белые?"
      ]
    },
    {
      "cell_type": "markdown",
      "metadata": {
        "id": "VZsyc0LYD1OU",
        "colab_type": "text"
      },
      "source": [
        "Всего 3 варианта как вытащить ровно три белых мяча из урн:\n",
        ">Первая урна | Вторая урна\n",
        ">--- | ---\n",
        ">2 белых | 1 белый\n",
        ">1 белых| 2 белых\n",
        ">0 белых| 3 белых"
      ]
    },
    {
      "cell_type": "code",
      "metadata": {
        "id": "kvmOvpvSsU4h",
        "colab_type": "code",
        "colab": {}
      },
      "source": [
        "#Вспомогательная функция подсчета сочетаний\n",
        "def combinations(n, k):\n",
        "    return int(np.math.factorial(n) / (np.math.factorial(k) * np.math.factorial(n - k)))"
      ],
      "execution_count": 11,
      "outputs": []
    },
    {
      "cell_type": "code",
      "metadata": {
        "id": "FDdqLMXFDhOs",
        "colab_type": "code",
        "colab": {}
      },
      "source": [
        "#Варинт 1\n",
        "var1 = (combinations(5,2)/combinations(8,2))*(combinations(5,1)*combinations(7,3)/combinations(12,4))"
      ],
      "execution_count": 12,
      "outputs": []
    },
    {
      "cell_type": "code",
      "metadata": {
        "id": "Vt5tG5H9s7Cw",
        "colab_type": "code",
        "colab": {}
      },
      "source": [
        "#Варинт 2\n",
        "var2 = (combinations(5,1)*combinations(3,1)/combinations(8,2))*(combinations(5,2)*combinations(7,2)/combinations(12,4))"
      ],
      "execution_count": 13,
      "outputs": []
    },
    {
      "cell_type": "code",
      "metadata": {
        "id": "BMVQQG0JtaPC",
        "colab_type": "code",
        "colab": {}
      },
      "source": [
        "#Варинт 3\n",
        "var3 = (combinations(3,2)/combinations(8,2))*(combinations(5,3)*combinations(7,1)/combinations(12,4))"
      ],
      "execution_count": 14,
      "outputs": []
    },
    {
      "cell_type": "code",
      "metadata": {
        "id": "-vFRPmITtofS",
        "colab_type": "code",
        "colab": {
          "base_uri": "https://localhost:8080/",
          "height": 35
        },
        "outputId": "1f1cf41f-f20d-4915-d5bd-ccfb8a5790d3"
      },
      "source": [
        "print(f'Вероятность того, что 3 мяча белые: {var1+var2+var3:.4f}')"
      ],
      "execution_count": 15,
      "outputs": [
        {
          "output_type": "stream",
          "text": [
            "Вероятность того, что 3 мяча белые: 0.3687\n"
          ],
          "name": "stdout"
        }
      ]
    },
    {
      "cell_type": "markdown",
      "metadata": {
        "id": "j91m-5xKu4DR",
        "colab_type": "text"
      },
      "source": [
        "### Задание 3\n",
        "На соревновании по биатлону один из трех спортсменов стреляет и попадает в мишень. Вероятность попадания для первого спортсмена равна 0.9, для второго — 0.8, для третьего — 0.6. Найти вероятность того, что выстрел произведен: a). первым спортсменом б). вторым спортсменом в). третьим спортсменом."
      ]
    },
    {
      "cell_type": "markdown",
      "metadata": {
        "id": "HzvZOBkOvwa0",
        "colab_type": "text"
      },
      "source": [
        "Событием A будем считать попадание в мишень, а событиями B1,B2 и B3 — что выстрел совершил первый, второй или третий спортсмен:\n",
        "$$P(A\\:|\\:B_1) = 0.9$$\n",
        "\n",
        "$$P(A\\:|\\:B_2) = 0.8$$\n",
        "\n",
        "$$P(A\\:|\\:B_3) = 0.6$$\n",
        "\n",
        "Вероятность того, что стрелял первый спортсмен — при условии, что выстрел был удачным, — будем находить по формуле:\n",
        "$$P(B_1\\:|\\:A) = \\frac{P(B_1) \\cdot P(A\\:|\\:B_1)}{P(A)}$$\n",
        "\n",
        "$P(A)= \\frac{1}{3}*0.9+\\frac{1}{3}*0.8+\\frac{1}{3}*0.6$"
      ]
    },
    {
      "cell_type": "code",
      "metadata": {
        "id": "xyglqTrRu7Bf",
        "colab_type": "code",
        "colab": {}
      },
      "source": [
        "p_success = 1/3 * (0.9+0.8+0.6)"
      ],
      "execution_count": 16,
      "outputs": []
    },
    {
      "cell_type": "code",
      "metadata": {
        "id": "x-i9fQCvw7gm",
        "colab_type": "code",
        "colab": {}
      },
      "source": [
        "#Вероятность того что стрелял первый спортсмен\n",
        "p_first = (1/3)*(0.9)/p_success"
      ],
      "execution_count": 17,
      "outputs": []
    },
    {
      "cell_type": "code",
      "metadata": {
        "id": "OBL4rRyVw8M1",
        "colab_type": "code",
        "colab": {}
      },
      "source": [
        "#Вероятность того что стрелял второй спортсмен\n",
        "p_second = (1/3)*(0.8)/p_success"
      ],
      "execution_count": 18,
      "outputs": []
    },
    {
      "cell_type": "code",
      "metadata": {
        "id": "xgDC9ClnxZhU",
        "colab_type": "code",
        "colab": {}
      },
      "source": [
        "#Вероятность того что стрелял третий спортсмен\n",
        "p_third = (1/3)*(0.6)/p_success"
      ],
      "execution_count": 19,
      "outputs": []
    },
    {
      "cell_type": "code",
      "metadata": {
        "id": "1GQRduktxmRi",
        "colab_type": "code",
        "colab": {
          "base_uri": "https://localhost:8080/",
          "height": 72
        },
        "outputId": "0505b83b-b51f-4469-90ae-f0f5a37b19b1"
      },
      "source": [
        "print(f'Вероятность того что стрелял первый спортсмен: {p_first:.4f}')\n",
        "print(f'Вероятность того что стрелял второй спортсмен: {p_second:.4f}')\n",
        "print(f'Вероятность того что стрелял третий спортсмен: {p_third:.4f}')"
      ],
      "execution_count": 20,
      "outputs": [
        {
          "output_type": "stream",
          "text": [
            "Вероятность того что стрелял первый спортсмен: 0.3913\n",
            "Вероятность того что стрелял второй спортсмен: 0.3478\n",
            "Вероятность того что стрелял третий спортсмен: 0.2609\n"
          ],
          "name": "stdout"
        }
      ]
    },
    {
      "cell_type": "markdown",
      "metadata": {
        "id": "WgfyjQDKyJtM",
        "colab_type": "text"
      },
      "source": [
        "### Задание 4\n",
        "В университет на факультеты A и B поступило равное количество студентов, а на факультет C студентов поступило столько же, сколько на A и B вместе. Вероятность того, что студент факультета A сдаст первую сессию, равна 0.8. Для студента факультета B эта вероятность равна 0.7, а для студента факультета C - 0.9. Студент сдал первую сессию. Какова вероятность, что он учится: a). на факультете A б). на факультете B в). на факультете C?"
      ]
    },
    {
      "cell_type": "markdown",
      "metadata": {
        "id": "d2WbhF6b5b5D",
        "colab_type": "text"
      },
      "source": [
        "Событием A будем считать сдачу первой сессии, а событиями B1,B2 и B3 — что сдал студент из факультета А, B или C:\n",
        "$$P(A\\:|\\:B_1) = 0.8$$\n",
        "\n",
        "$$P(A\\:|\\:B_2) = 0.7$$\n",
        "\n",
        "$$P(A\\:|\\:B_3) = 0.9$$\n",
        "\n",
        "Вероятность что студент с факультета А или B 1/4 , с факультета C 1/2 \n",
        "\n",
        "$P(A)= \\frac{1}{4}*0.8+\\frac{1}{4}*0.7+\\frac{1}{2}*0.9$"
      ]
    },
    {
      "cell_type": "code",
      "metadata": {
        "id": "DwiJ-mh7yOU8",
        "colab_type": "code",
        "colab": {}
      },
      "source": [
        "p_success = 1/4*0.8 + 1/4*0.7 + 1/2 * 0.9"
      ],
      "execution_count": 21,
      "outputs": []
    },
    {
      "cell_type": "code",
      "metadata": {
        "id": "RMDlWkEk6845",
        "colab_type": "code",
        "colab": {
          "base_uri": "https://localhost:8080/",
          "height": 35
        },
        "outputId": "4170d3f4-789e-474d-ed05-be8aa19e349a"
      },
      "source": [
        "p_success"
      ],
      "execution_count": 22,
      "outputs": [
        {
          "output_type": "execute_result",
          "data": {
            "text/plain": [
              "0.825"
            ]
          },
          "metadata": {
            "tags": []
          },
          "execution_count": 22
        }
      ]
    },
    {
      "cell_type": "code",
      "metadata": {
        "id": "le4KRMrHGN5p",
        "colab_type": "code",
        "colab": {}
      },
      "source": [
        "#Вероятность того что сдавший студент с факультета А\n",
        "p_facA = (1/4)*(0.8)/p_success"
      ],
      "execution_count": 23,
      "outputs": []
    },
    {
      "cell_type": "code",
      "metadata": {
        "id": "MEOVNfTyHZO0",
        "colab_type": "code",
        "colab": {}
      },
      "source": [
        "#Вероятность того что сдавший студент с факультета B\n",
        "p_facB = (1/4)*(0.7)/p_success"
      ],
      "execution_count": 24,
      "outputs": []
    },
    {
      "cell_type": "code",
      "metadata": {
        "id": "eFnJhQ8sJrY9",
        "colab_type": "code",
        "colab": {}
      },
      "source": [
        "#Вероятность того что сдавший студент с факультета B\n",
        "p_facC = (1/2)*(0.9)/p_success"
      ],
      "execution_count": 25,
      "outputs": []
    },
    {
      "cell_type": "code",
      "metadata": {
        "id": "v9k6CLJ4Jwke",
        "colab_type": "code",
        "colab": {
          "base_uri": "https://localhost:8080/",
          "height": 72
        },
        "outputId": "1b514d46-a178-4e32-930f-d1ba1945be86"
      },
      "source": [
        "print(f'Вероятность того что студент с факультета А: {p_facA:.4f}')\n",
        "print(f'Вероятность того что студент с факультета B: {p_facB:.4f}')\n",
        "print(f'Вероятность того что студент с факультета C: {p_facC:.4f}')"
      ],
      "execution_count": 26,
      "outputs": [
        {
          "output_type": "stream",
          "text": [
            "Вероятность того что студент с факультета А: 0.2424\n",
            "Вероятность того что студент с факультета B: 0.2121\n",
            "Вероятность того что студент с факультета C: 0.5455\n"
          ],
          "name": "stdout"
        }
      ]
    },
    {
      "cell_type": "markdown",
      "metadata": {
        "id": "0ruiuvQecW9T",
        "colab_type": "text"
      },
      "source": [
        "### Задание 5\n",
        "Устройство состоит из трех деталей. Для первой детали вероятность выйти из строя в первый месяц равна 0.1, для второй - 0.2, для третьей - 0.25. Какова вероятность того, что в первый месяц выйдут из строя: а). все детали б). только две детали в). хотя бы одна деталь г). от одной до двух деталей?\n"
      ]
    },
    {
      "cell_type": "markdown",
      "metadata": {
        "id": "DQVxSikKclPm",
        "colab_type": "text"
      },
      "source": [
        "- Вероятность выхода из строя первой детали : $P(A) = 0.1$\n",
        "- Вероятность выхода из строя второй детали  : $P(B) = 0.2$\n",
        "- Вероятность выхода из строя третий детали  : $P(B) = 0.25$\n",
        "\n",
        "\n",
        "---\n",
        "Какова вероятность того, что в первый месяц выйдут из строя:\n",
        "\n",
        "**а) Все детали**\n",
        "\n",
        "$P(all) = P(A)*P(B)*P(C)= 0.1 * 0.2 * 0.25$\n",
        "\n",
        "\n"
      ]
    },
    {
      "cell_type": "code",
      "metadata": {
        "id": "i4tCE5Escay_",
        "colab_type": "code",
        "colab": {
          "base_uri": "https://localhost:8080/",
          "height": 35
        },
        "outputId": "1ab37ca0-614a-4fed-f0b4-ebf7124a78b4"
      },
      "source": [
        "pa = 0.1\n",
        "pb = 0.2\n",
        "pc = 0.25\n",
        "allbroken = pa * pb * pc\n",
        "print(f'Вероятность того, что в первый месяц выйдут из строя все детали: {allbroken:0.4f}')"
      ],
      "execution_count": 27,
      "outputs": [
        {
          "output_type": "stream",
          "text": [
            "Вероятность того, что в первый месяц выйдут из строя все детали: 0.0050\n"
          ],
          "name": "stdout"
        }
      ]
    },
    {
      "cell_type": "markdown",
      "metadata": {
        "id": "udKmA5_gd0bC",
        "colab_type": "text"
      },
      "source": [
        "**б) Только две детали**\n",
        "\n",
        "$P(onlytwo) = P(A)*P(B)*\\overline{P(C)} + P(A)*\\overline{P(B)}*P(C)+\\overline{P(A)}*P(B)*P(C)=\\\\= 0.1*0.2*0.75 + 0.1*0.8*0.25 + 0.9*0.2*0.25$"
      ]
    },
    {
      "cell_type": "code",
      "metadata": {
        "id": "PpxseeMVduLk",
        "colab_type": "code",
        "colab": {
          "base_uri": "https://localhost:8080/",
          "height": 35
        },
        "outputId": "7ab5f19d-48ad-47b2-90a8-9a0cb1ac4f58"
      },
      "source": [
        "result = (pa * pb * (1 - pc)) + (pa * (1 - pb) * pc) + ((1 - pa) * pb * pc)\n",
        "print(f'Вероятность того, что в первый месяц выйдут из строя только две детали: {result:0.4f}')"
      ],
      "execution_count": 28,
      "outputs": [
        {
          "output_type": "stream",
          "text": [
            "Вероятность того, что в первый месяц выйдут из строя только две детали: 0.0800\n"
          ],
          "name": "stdout"
        }
      ]
    },
    {
      "cell_type": "markdown",
      "metadata": {
        "id": "mgxfkQ27goKD",
        "colab_type": "text"
      },
      "source": [
        "**в) хотя бы одна деталь**\n",
        "\n",
        "- $P(allUnbroken) = \\overline{P(A)}*\\overline{P(B)}*\\overline{P(C)}$\n",
        "- $P(oneormore) = 1 - P(allUnbroken)$"
      ]
    },
    {
      "cell_type": "code",
      "metadata": {
        "id": "IkI4lsxagtev",
        "colab_type": "code",
        "colab": {
          "base_uri": "https://localhost:8080/",
          "height": 35
        },
        "outputId": "706143cb-5a8d-44b7-f842-de1ed8ef05fe"
      },
      "source": [
        "notbroken = (1 - pa) * (1 - pb) * (1 - pc)\n",
        "print(f'Вероятность того, что в первый месяц выйдет из строя хотя бы одна: {1 - notbroken:0.4f}')"
      ],
      "execution_count": 29,
      "outputs": [
        {
          "output_type": "stream",
          "text": [
            "Вероятность того, что в первый месяц выйдет из строя хотя бы одна: 0.4600\n"
          ],
          "name": "stdout"
        }
      ]
    },
    {
      "cell_type": "markdown",
      "metadata": {
        "id": "ZMqKdqtviDWR",
        "colab_type": "text"
      },
      "source": [
        "**в) от одной до двух деталей**\n",
        "\n",
        "- $P(one-two) = 1 - P(allUnbroken) - P(allBroken)$\n",
        "\n",
        "Вероятности нам уже известны из предыдущих задач\n"
      ]
    },
    {
      "cell_type": "code",
      "metadata": {
        "id": "AJtWcbflihYm",
        "colab_type": "code",
        "colab": {
          "base_uri": "https://localhost:8080/",
          "height": 35
        },
        "outputId": "7c416107-aac8-4b19-be24-0b8f6e0eb0fc"
      },
      "source": [
        "onetwo = 1 - notbroken - allbroken\n",
        "print(f'Вероятность того, что в первый месяц выйдет из строя от одной до двух деталей: {onetwo:0.4f}')"
      ],
      "execution_count": 30,
      "outputs": [
        {
          "output_type": "stream",
          "text": [
            "Вероятность того, что в первый месяц выйдет из строя от одной до двух деталей: 0.4550\n"
          ],
          "name": "stdout"
        }
      ]
    },
    {
      "cell_type": "code",
      "metadata": {
        "id": "gIPKLgkEjKRJ",
        "colab_type": "code",
        "colab": {}
      },
      "source": [
        ""
      ],
      "execution_count": 30,
      "outputs": []
    }
  ]
}