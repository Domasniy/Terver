{
  "nbformat": 4,
  "nbformat_minor": 0,
  "metadata": {
    "colab": {
      "name": "DZ7.ipynb",
      "provenance": [],
      "collapsed_sections": []
    },
    "kernelspec": {
      "name": "python3",
      "display_name": "Python 3"
    }
  },
  "cells": [
    {
      "cell_type": "markdown",
      "metadata": {
        "id": "G7ToZQUCNihr",
        "colab_type": "text"
      },
      "source": [
        "##Задание 1\n",
        "Даны значения величины заработной платы заемщиков банка (zp) и значения их поведенческого кредитного скоринга (ks): \n",
        "\n",
        "zp = [35, 45, 190, 200, 40, 70, 54, 150, 120, 110],\n",
        "\n",
        " ks = [401, 574, 874, 919, 459, 739, 653, 902, 746, 832]. \n",
        " \n",
        " Используя математические операции, посчитать коэффициенты линейной регрессии, приняв за X заработную плату (то есть, zp - признак), а за y - значения скорингового балла (то есть, ks - целевая переменная). Произвести расчет как с использованием intercept, так и без."
      ]
    },
    {
      "cell_type": "markdown",
      "metadata": {
        "id": "G4MzsMBvXDtq",
        "colab_type": "text"
      },
      "source": [
        "$$b = \\frac{\\overline{yx} - \\overline{y} \\cdot {\\overline{x}}}{\\overline{x^2} - (\\overline{x})^2}$$"
      ]
    },
    {
      "cell_type": "markdown",
      "metadata": {
        "id": "r5IvPMhRXMRY",
        "colab_type": "text"
      },
      "source": [
        "$$a = \\overline{y} - b \\cdot {\\overline{x}}$$"
      ]
    },
    {
      "cell_type": "code",
      "metadata": {
        "id": "Rybyfa3BNqUC",
        "colab_type": "code",
        "colab": {}
      },
      "source": [
        "import numpy as np\n",
        "\n",
        "zp = np.array([35, 45, 190, 200, 40, 70, 54, 150, 120, 110])\n",
        "ks = np.array([401, 574, 874, 919, 459, 739, 653, 902, 746, 832])"
      ],
      "execution_count": 1,
      "outputs": []
    },
    {
      "cell_type": "code",
      "metadata": {
        "id": "t4e968oWNz5v",
        "colab_type": "code",
        "colab": {
          "base_uri": "https://localhost:8080/",
          "height": 35
        },
        "outputId": "e81662c3-59dd-420a-e4d0-b66baf5c704b"
      },
      "source": [
        "b = (np.mean(ks * zp) - np.mean(ks) * np.mean(zp)) / (np.mean(zp**2) - np.mean(zp)**2)\n",
        "print(f'Коэффициент b линейного уровнения: {b}')"
      ],
      "execution_count": 2,
      "outputs": [
        {
          "output_type": "stream",
          "text": [
            "Коэффициент b линейного уровнения: 2.620538882402765\n"
          ],
          "name": "stdout"
        }
      ]
    },
    {
      "cell_type": "code",
      "metadata": {
        "id": "Oe6sEqYmOXQh",
        "colab_type": "code",
        "colab": {
          "base_uri": "https://localhost:8080/",
          "height": 35
        },
        "outputId": "640fc6c0-dabc-4f0f-b4a4-e74ef7c66609"
      },
      "source": [
        "a = np.mean(ks) - b * np.mean(zp)\n",
        "print(f'Коэффициент a линейного уровнения: {a}')"
      ],
      "execution_count": 3,
      "outputs": [
        {
          "output_type": "stream",
          "text": [
            "Коэффициент a линейного уровнения: 444.1773573243596\n"
          ],
          "name": "stdout"
        }
      ]
    },
    {
      "cell_type": "markdown",
      "metadata": {
        "id": "NLbXDxlHPjuL",
        "colab_type": "text"
      },
      "source": [
        "Уравнение регрессии будет иметь вид: $$y = 444.177 + 2.62 * x$$"
      ]
    },
    {
      "cell_type": "code",
      "metadata": {
        "id": "7iGG3-bQYm8a",
        "colab_type": "code",
        "colab": {
          "base_uri": "https://localhost:8080/",
          "height": 276
        },
        "outputId": "6e9c6ad7-75a2-4f97-f336-b28f0da02910"
      },
      "source": [
        "import matplotlib.pyplot as plt\n",
        "%matplotlib inline\n",
        "plt.style.use('seaborn-whitegrid')\n",
        "plt.xlabel('Заработная плата')\n",
        "plt.ylabel('Кредитный скор')\n",
        "plt.scatter(zp, ks)\n",
        "plt.plot(zp, a + b * zp, 'r')\n",
        "plt.show()"
      ],
      "execution_count": 4,
      "outputs": [
        {
          "output_type": "display_data",
          "data": {
            "image/png": "[encoded data removed]",
            "text/plain": [
              "<Figure size 432x288 with 1 Axes>"
            ]
          },
          "metadata": {
            "tags": []
          }
        }
      ]
    },
    {
      "cell_type": "markdown",
      "metadata": {
        "id": "NU-QwubmXUUm",
        "colab_type": "text"
      },
      "source": [
        "Для нахождения коэффициента без intercept:"
      ]
    },
    {
      "cell_type": "markdown",
      "metadata": {
        "id": "h1BjrAl7ZRZP",
        "colab_type": "text"
      },
      "source": [
        "$$b = \\frac{\\overline{xy}}{\\overline{x^2}}$$"
      ]
    },
    {
      "cell_type": "code",
      "metadata": {
        "id": "ar0Ff6recdI8",
        "colab_type": "code",
        "colab": {
          "base_uri": "https://localhost:8080/",
          "height": 35
        },
        "outputId": "59685d69-707d-4efd-c8d9-261796ac10a8"
      },
      "source": [
        "b_nointer = np.mean(zp * ks) / np.mean(zp**2)\n",
        "b_nointer"
      ],
      "execution_count": 5,
      "outputs": [
        {
          "output_type": "execute_result",
          "data": {
            "text/plain": [
              "5.889820420132688"
            ]
          },
          "metadata": {
            "tags": []
          },
          "execution_count": 5
        }
      ]
    },
    {
      "cell_type": "markdown",
      "metadata": {
        "id": "wAhX6cYacrIU",
        "colab_type": "text"
      },
      "source": [
        "Уравнение: $$y = 5.89 \\cdot x$$"
      ]
    },
    {
      "cell_type": "markdown",
      "metadata": {
        "id": "OeA9s4g2Xi9D",
        "colab_type": "text"
      },
      "source": [
        "Так же можно посчитать в матричном ввиде:"
      ]
    },
    {
      "cell_type": "code",
      "metadata": {
        "id": "FrsNQZQFOoXw",
        "colab_type": "code",
        "colab": {}
      },
      "source": [
        "X = zp.reshape((10,1))\n",
        "y = ks.reshape((10,1))"
      ],
      "execution_count": 6,
      "outputs": []
    },
    {
      "cell_type": "code",
      "metadata": {
        "id": "nhD_UpJ7QlMr",
        "colab_type": "code",
        "colab": {
          "base_uri": "https://localhost:8080/",
          "height": 35
        },
        "outputId": "b82ef918-e734-46ec-e722-04c2a37f9953"
      },
      "source": [
        "B = np.dot(np.linalg.inv(np.dot(X.T, X)), X.T@y)\n",
        "print(f'Коэффициент B линейного уровнения без интерсепта: {B[0][0]:0.2f}')"
      ],
      "execution_count": 7,
      "outputs": [
        {
          "output_type": "stream",
          "text": [
            "Коэффициент B линейного уровнения без интерсепта: 5.89\n"
          ],
          "name": "stdout"
        }
      ]
    },
    {
      "cell_type": "markdown",
      "metadata": {
        "id": "SDtJFTn6dVxx",
        "colab_type": "text"
      },
      "source": [
        "#Задание 2\n",
        "Посчитать коэффициент линейной регрессии при заработной плате (zp), используя градиентный спуск (без intercept)."
      ]
    },
    {
      "cell_type": "code",
      "metadata": {
        "id": "nKGwQeRSdbj6",
        "colab_type": "code",
        "colab": {}
      },
      "source": [
        "def mse_(B1, y = ks, X = zp, n = 10):\n",
        "  return np.sum((B1 * X - y)**2) / n"
      ],
      "execution_count": 19,
      "outputs": []
    },
    {
      "cell_type": "code",
      "metadata": {
        "id": "n5aIfTyV4TNS",
        "colab_type": "code",
        "colab": {}
      },
      "source": [
        "#вводные\n",
        "alpha = 1e-5\n",
        "n = len(zp)\n",
        "B1 = 0.1"
      ],
      "execution_count": 34,
      "outputs": []
    },
    {
      "cell_type": "code",
      "metadata": {
        "id": "Mu3ZIbnn4ceh",
        "colab_type": "code",
        "colab": {
          "base_uri": "https://localhost:8080/",
          "height": 164
        },
        "outputId": "c396e05f-e829-49d9-e593-1181f9e14a20"
      },
      "source": [
        "for i in range(160):\n",
        "  B1 -= alpha * (2 / n) * np.sum((B1 * zp - ks) * zp)\n",
        "  if i % 20 == 0:\n",
        "    print(f'Iter: {i} , B1 = {B1}, mse = {mse_(B1, n = n)}')"
      ],
      "execution_count": 35,
      "outputs": [
        {
          "output_type": "stream",
          "text": [
            "Iter: 0 , B1 = 1.6952808000000004, mse = 298904.5992334053\n",
            "Iter: 20 , B1 = 5.883166639986514, mse = 56517.468344241344\n",
            "Iter: 40 , B1 = 5.88980986526988, mse = 56516.858417254174\n",
            "Iter: 60 , B1 = 5.889820403389555, mse = 56516.85841571941\n",
            "Iter: 80 , B1 = 5.889820420106129, mse = 56516.8584157194\n",
            "Iter: 100 , B1 = 5.889820420132646, mse = 56516.85841571941\n",
            "Iter: 120 , B1 = 5.889820420132688, mse = 56516.8584157194\n",
            "Iter: 140 , B1 = 5.889820420132688, mse = 56516.8584157194\n"
          ],
          "name": "stdout"
        }
      ]
    },
    {
      "cell_type": "code",
      "metadata": {
        "id": "8d4RL0bZ5EV9",
        "colab_type": "code",
        "colab": {}
      },
      "source": [
        ""
      ],
      "execution_count": null,
      "outputs": []
    },
    {
      "cell_type": "markdown",
      "metadata": {
        "id": "1pIStVBN69ma",
        "colab_type": "text"
      },
      "source": [
        "##Задание 3\n",
        "В каких случаях для вычисления доверительных интервалов и проверки статистических гипотез используется таблица значений функции Лапласа, а в каких - таблица критических точек распределения Стьюдента?"
      ]
    },
    {
      "cell_type": "markdown",
      "metadata": {
        "id": "taSW5oY2BPob",
        "colab_type": "text"
      },
      "source": [
        "Если нам известна $\\sigma$ используем таблицу Лапласа, если нет то Стьюдента"
      ]
    },
    {
      "cell_type": "code",
      "metadata": {
        "id": "UOnEGRar7HEc",
        "colab_type": "code",
        "colab": {}
      },
      "source": [
        ""
      ],
      "execution_count": null,
      "outputs": []
    }
  ]
}