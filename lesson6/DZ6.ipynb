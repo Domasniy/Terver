{
  "nbformat": 4,
  "nbformat_minor": 0,
  "metadata": {
    "colab": {
      "name": "DZ6.ipynb",
      "provenance": [],
      "collapsed_sections": [
        "QbU8Tq8kKQU4",
        "l816olauErNE",
        "g4HOGSSnHxrg"
      ]
    },
    "kernelspec": {
      "name": "python3",
      "display_name": "Python 3"
    }
  },
  "cells": [
    {
      "cell_type": "markdown",
      "metadata": {
        "id": "QbU8Tq8kKQU4",
        "colab_type": "text"
      },
      "source": [
        "##Задание 1\n",
        "Даны значения величины заработной платы заемщиков банка (zp) и значения их поведенческого кредитного скоринга (ks):\n",
        "\n",
        "`zp = [35, 45, 190, 200, 40, 70, 54, 150, 120, 110]`,\n",
        "\n",
        "`ks = [401, 574, 874, 919, 459, 739, 653, 902, 746, 832]`.\n",
        "\n",
        "Найдите ковариацию этих двух величин с помощью элементарных действий, а затем с помощью функции cov из numpy\n",
        "\n",
        "Полученные значения должны быть равны.\n",
        "\n",
        "Найдите коэффициент корреляции Пирсона с помощью ковариации и среднеквадратичных отклонений двух признаков,\n",
        "а затем с использованием функций из библиотек numpy и pandas."
      ]
    },
    {
      "cell_type": "code",
      "metadata": {
        "id": "tbofLDB-EpSe",
        "colab_type": "code",
        "colab": {}
      },
      "source": [
        "import numpy as np\n",
        "import pandas as pd\n",
        "\n",
        "zp = np.array([35, 45, 190, 200, 40, 70, 54, 150, 120, 110])\n",
        "ks = np.array([401, 574, 874, 919, 459, 739, 653, 902, 746, 832])"
      ],
      "execution_count": 11,
      "outputs": []
    },
    {
      "cell_type": "code",
      "metadata": {
        "id": "Le_4dzpyZLEV",
        "colab_type": "code",
        "colab": {
          "base_uri": "https://localhost:8080/",
          "height": 54
        },
        "outputId": "327e4d90-13ea-4083-dde8-e9ff525afa34"
      },
      "source": [
        "cov_manual = np.mean(zp * ks) - np.mean(zp) * np.mean(ks)\n",
        "print(f'Ковариация в ручную: {cov_manual:0.4f}')\n",
        "print(f'Ковариация с помощью функции cov: {np.cov(zp, ks, ddof=0)[1][0]}')"
      ],
      "execution_count": 20,
      "outputs": [
        {
          "output_type": "stream",
          "text": [
            "Ковариация в ручную: 9157.8400\n",
            "Ковариация с помощью функции cov: 9157.84\n"
          ],
          "name": "stdout"
        }
      ]
    },
    {
      "cell_type": "code",
      "metadata": {
        "id": "oxPFnBPoaTCG",
        "colab_type": "code",
        "colab": {
          "base_uri": "https://localhost:8080/",
          "height": 149
        },
        "outputId": "af69ec8d-0679-4771-8663-6786e576a9a7"
      },
      "source": [
        "cor_manual = cov_manual / (np.std(zp) * np.std(ks))\n",
        "print(f'коэффициент корреляции Пирсона в ручную: {cor_manual:0.4f}')\n",
        "print(f'коэффициент корреляции Пирсона с помощью функции numpy: {np.corrcoef(zp, ks)[1][0]:0.4f}')\n",
        "df = pd.DataFrame({'zp': zp, 'ks': ks})\n",
        "df.corr()"
      ],
      "execution_count": 30,
      "outputs": [
        {
          "output_type": "stream",
          "text": [
            "коэффициент корреляции Пирсона в ручную: 0.8875\n",
            "коэффициент корреляции Пирсона с помощью функции numpy: 0.8875\n"
          ],
          "name": "stdout"
        },
        {
          "output_type": "execute_result",
          "data": {
            "text/html": [
              "<div>\n",
              "<style scoped>\n",
              "    .dataframe tbody tr th:only-of-type {\n",
              "        vertical-align: middle;\n",
              "    }\n",
              "\n",
              "    .dataframe tbody tr th {\n",
              "        vertical-align: top;\n",
              "    }\n",
              "\n",
              "    .dataframe thead th {\n",
              "        text-align: right;\n",
              "    }\n",
              "</style>\n",
              "<table border=\"1\" class=\"dataframe\">\n",
              "  <thead>\n",
              "    <tr style=\"text-align: right;\">\n",
              "      <th></th>\n",
              "      <th>zp</th>\n",
              "      <th>ks</th>\n",
              "    </tr>\n",
              "  </thead>\n",
              "  <tbody>\n",
              "    <tr>\n",
              "      <th>zp</th>\n",
              "      <td>1.00000</td>\n",
              "      <td>0.88749</td>\n",
              "    </tr>\n",
              "    <tr>\n",
              "      <th>ks</th>\n",
              "      <td>0.88749</td>\n",
              "      <td>1.00000</td>\n",
              "    </tr>\n",
              "  </tbody>\n",
              "</table>\n",
              "</div>"
            ],
            "text/plain": [
              "         zp       ks\n",
              "zp  1.00000  0.88749\n",
              "ks  0.88749  1.00000"
            ]
          },
          "metadata": {
            "tags": []
          },
          "execution_count": 30
        }
      ]
    },
    {
      "cell_type": "markdown",
      "metadata": {
        "id": "nCSBPfEiZt1n",
        "colab_type": "text"
      },
      "source": [
        ""
      ]
    },
    {
      "cell_type": "markdown",
      "metadata": {
        "id": "l816olauErNE",
        "colab_type": "text"
      },
      "source": [
        "##Задание 2\n",
        "Измерены значения IQ выборки студентов,\n",
        "обучающихся в местных технических вузах:\n",
        "`131, 125, 115, 122, 131, 115, 107, 99, 125, 111`.\n",
        "Известно, что в генеральной совокупности IQ распределен нормально.\n",
        "Найдите доверительный интервал для математического ожидания с надежностью `0.95`."
      ]
    },
    {
      "cell_type": "markdown",
      "metadata": {
        "id": "acCAZHIuF3mi",
        "colab_type": "text"
      },
      "source": [
        "Так как нам не известно средне квадратичное отклонение генеральной совокупности, будем использовать критерий Стьюдента и формулу:\n",
        "$$M\\pm (t_\\frac{\\alpha}{2}*\\frac{\\sigma}{\\sqrt{n}})$$"
      ]
    },
    {
      "cell_type": "markdown",
      "metadata": {
        "id": "OdHKZucuGAua",
        "colab_type": "text"
      },
      "source": [
        "Найдем M:\n",
        "$$M= 118.1 $$"
      ]
    },
    {
      "cell_type": "code",
      "metadata": {
        "id": "TaId9ujdFc6u",
        "colab_type": "code",
        "colab": {
          "base_uri": "https://localhost:8080/",
          "height": 35
        },
        "outputId": "04d4e35c-cf60-4364-b8e7-4cc9f1133290"
      },
      "source": [
        "import numpy as np\n",
        "np.mean([131, 125, 115, 122, 131, 115, 107, 99, 125, 111])"
      ],
      "execution_count": 1,
      "outputs": [
        {
          "output_type": "execute_result",
          "data": {
            "text/plain": [
              "118.1"
            ]
          },
          "metadata": {
            "tags": []
          },
          "execution_count": 1
        }
      ]
    },
    {
      "cell_type": "markdown",
      "metadata": {
        "id": "w4vWPVHAGR2u",
        "colab_type": "text"
      },
      "source": [
        "Найдем $ \\sigma $ среднеквадратического несмещенное отклонение для выборки"
      ]
    },
    {
      "cell_type": "markdown",
      "metadata": {
        "id": "7Av8qpQUGU5a",
        "colab_type": "text"
      },
      "source": [
        "$$\\sigma= 10.546$$"
      ]
    },
    {
      "cell_type": "code",
      "metadata": {
        "id": "IOF6_xvVGFKO",
        "colab_type": "code",
        "colab": {
          "base_uri": "https://localhost:8080/",
          "height": 35
        },
        "outputId": "3f090657-1ec3-4557-ede6-b838e30e3019"
      },
      "source": [
        "np.std([131, 125, 115, 122, 131, 115, 107, 99, 125, 111],ddof=1)"
      ],
      "execution_count": 2,
      "outputs": [
        {
          "output_type": "execute_result",
          "data": {
            "text/plain": [
              "10.54566788359614"
            ]
          },
          "metadata": {
            "tags": []
          },
          "execution_count": 2
        }
      ]
    },
    {
      "cell_type": "markdown",
      "metadata": {
        "id": "8xcYYMWIGgfs",
        "colab_type": "text"
      },
      "source": [
        "Мы знаем $\\alpha = 0.05$ и что у нас 9 степеней свободы найдем по t-таблице значение для критерия"
      ]
    },
    {
      "cell_type": "markdown",
      "metadata": {
        "id": "8rxLRIm5GkQK",
        "colab_type": "text"
      },
      "source": [
        "$$t_\\frac{\\alpha}{2}=2.262$$"
      ]
    },
    {
      "cell_type": "markdown",
      "metadata": {
        "id": "6-eNgbL_Gwr6",
        "colab_type": "text"
      },
      "source": [
        "Подставляем все в формулу:\n",
        "$$M\\pm (t_\\frac{\\alpha}{2}*\\frac{\\sigma}{\\sqrt{n}})= 118.1\\pm(2.262*\\frac{10.546}{\\sqrt{10}})=118.1\\pm7.543$$"
      ]
    },
    {
      "cell_type": "markdown",
      "metadata": {
        "id": "NpLXj63DHJxj",
        "colab_type": "text"
      },
      "source": [
        "Получаем интервал: [110.556;125.644] , при $\\alpha = 0.05$"
      ]
    },
    {
      "cell_type": "code",
      "metadata": {
        "id": "eY7VrvhfG-ox",
        "colab_type": "code",
        "colab": {
          "base_uri": "https://localhost:8080/",
          "height": 35
        },
        "outputId": "1b63a44c-9119-4740-be8a-06cad8f56a80"
      },
      "source": [
        "118.1 - 2.262*(10.546/np.sqrt(10))"
      ],
      "execution_count": null,
      "outputs": [
        {
          "output_type": "execute_result",
          "data": {
            "text/plain": [
              "110.55637019782449"
            ]
          },
          "metadata": {
            "tags": []
          },
          "execution_count": 5
        }
      ]
    },
    {
      "cell_type": "code",
      "metadata": {
        "id": "4CB-16SkGYvw",
        "colab_type": "code",
        "colab": {
          "base_uri": "https://localhost:8080/",
          "height": 35
        },
        "outputId": "7309ca61-127f-4e25-b75a-2f5517499039"
      },
      "source": [
        "118.1 + 2.262*(10.546/np.sqrt(10))"
      ],
      "execution_count": 4,
      "outputs": [
        {
          "output_type": "execute_result",
          "data": {
            "text/plain": [
              "125.6436298021755"
            ]
          },
          "metadata": {
            "tags": []
          },
          "execution_count": 4
        }
      ]
    },
    {
      "cell_type": "code",
      "metadata": {
        "id": "N8MavtobHPGs",
        "colab_type": "code",
        "colab": {}
      },
      "source": [
        ""
      ],
      "execution_count": null,
      "outputs": []
    },
    {
      "cell_type": "markdown",
      "metadata": {
        "id": "g4HOGSSnHxrg",
        "colab_type": "text"
      },
      "source": [
        "##Задание 3\n",
        "Известно, что рост футболистов в сборной распределен нормально\n",
        "с дисперсией генеральной совокупности, равной `25` кв.см. Объем выборки равен `27`,\n",
        "среднее выборочное составляет `174.2`. Найдите доверительный интервал для математического\n",
        "ожидания с надежностью `0.95`."
      ]
    },
    {
      "cell_type": "markdown",
      "metadata": {
        "id": "wi1umXolH8J7",
        "colab_type": "text"
      },
      "source": [
        "Нам известны:\n",
        "$$M=174.2\\\\\\sigma=5\\\\n=27$$"
      ]
    },
    {
      "cell_type": "markdown",
      "metadata": {
        "id": "-uAS4alKINHl",
        "colab_type": "text"
      },
      "source": [
        "Так как нам известно средне квадратичное отклонение, будем использовать критерий Z.\n",
        "\n",
        "Найдем доверительный интервал по формуле :\n",
        "$$M\\pm (1.96*\\frac{\\sigma}{\\sqrt{n}})$$"
      ]
    },
    {
      "cell_type": "markdown",
      "metadata": {
        "id": "FCq4Ihw6J5oX",
        "colab_type": "text"
      },
      "source": [
        "Получаем интервал: [172.314;176.086], при $\\alpha = 0.05$"
      ]
    },
    {
      "cell_type": "code",
      "metadata": {
        "id": "ANMXHnB9Hz22",
        "colab_type": "code",
        "colab": {
          "base_uri": "https://localhost:8080/",
          "height": 35
        },
        "outputId": "bfbc4782-6c8c-4372-d03a-883556144cc9"
      },
      "source": [
        "174.2 - 1.96*(5/np.sqrt(27))"
      ],
      "execution_count": 6,
      "outputs": [
        {
          "output_type": "execute_result",
          "data": {
            "text/plain": [
              "172.31398912064722"
            ]
          },
          "metadata": {
            "tags": []
          },
          "execution_count": 6
        }
      ]
    },
    {
      "cell_type": "code",
      "metadata": {
        "id": "nz3yzWrNJt1l",
        "colab_type": "code",
        "colab": {
          "base_uri": "https://localhost:8080/",
          "height": 35
        },
        "outputId": "438b5c77-d05f-4acc-e72d-67c1b3d6e7cd"
      },
      "source": [
        "174.2 + 1.96*(5/np.sqrt(27))"
      ],
      "execution_count": 7,
      "outputs": [
        {
          "output_type": "execute_result",
          "data": {
            "text/plain": [
              "176.08601087935276"
            ]
          },
          "metadata": {
            "tags": []
          },
          "execution_count": 7
        }
      ]
    },
    {
      "cell_type": "code",
      "metadata": {
        "id": "Cuh9E5JwJvdk",
        "colab_type": "code",
        "colab": {}
      },
      "source": [
        ""
      ],
      "execution_count": null,
      "outputs": []
    }
  ]
}