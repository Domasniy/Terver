{
  "nbformat": 4,
  "nbformat_minor": 0,
  "metadata": {
    "colab": {
      "name": "DZ8.ipynb",
      "provenance": [],
      "collapsed_sections": []
    },
    "kernelspec": {
      "name": "python3",
      "display_name": "Python 3"
    }
  },
  "cells": [
    {
      "cell_type": "markdown",
      "metadata": {
        "id": "oLh49Pe6FnqY"
      },
      "source": [
        "## Задание 1\n",
        "Провести дисперсионный анализ для определения того, есть ли различия среднего роста среди взрослых футболистов, хоккеистов и штангистов. Даны значения роста в трех группах случайно выбранных спортсменов: \n",
        "\n",
        "Футболисты: `173, 175, 180, 178, 177, 185, 183, 182`. \n",
        "\n",
        "Хоккеисты: `177, 179, 180, 188, 177, 172, 171, 184, 180`. \n",
        "\n",
        "Штангисты: `172, 173, 169, 177, 166, 180, 178, 177, 172, 166, 170`."
      ]
    },
    {
      "cell_type": "code",
      "metadata": {
        "id": "_ZK_FIn5FwVj"
      },
      "source": [
        "import numpy as np\n",
        "football = np.array([173, 175, 180, 178, 177, 185, 183, 182])\n",
        "hockey = np.array([177, 179, 180, 188, 177, 172, 171, 184, 180])\n",
        "athletes = np.array([172, 173, 169, 177, 166, 180, 178, 177, 172, 166, 170])"
      ],
      "execution_count": 1,
      "outputs": []
    },
    {
      "cell_type": "code",
      "metadata": {
        "id": "DMTc9Bb9dJRR"
      },
      "source": [
        "#общее кол-во наблюдений\n",
        "N = len(football) + len(hockey) + len(athletes)\n",
        "#Кол-во групп\n",
        "C = 3"
      ],
      "execution_count": 2,
      "outputs": []
    },
    {
      "cell_type": "markdown",
      "metadata": {
        "id": "G2grmslXeQZF"
      },
      "source": [
        "Найдем средние зарплаты по группам:"
      ]
    },
    {
      "cell_type": "code",
      "metadata": {
        "id": "Pgb-Tb5EeXyr",
        "outputId": "90dd7089-f1cf-442f-f5af-1267dd45c11b",
        "colab": {
          "base_uri": "https://localhost:8080/",
          "height": 72
        }
      },
      "source": [
        "football_mean = np.mean(football)\n",
        "print(f'Среднее выборочное футболисты: {football_mean}')\n",
        "hockey_mean = np.mean(hockey)\n",
        "print(f'Среднее выборочное хоккеисты: {hockey_mean}')\n",
        "athletes_mean = np.mean(athletes)\n",
        "print(f'Среднее выборочное штангисты: {athletes_mean}')"
      ],
      "execution_count": 3,
      "outputs": [
        {
          "output_type": "stream",
          "text": [
            "Среднее выборочное футболисты: 179.125\n",
            "Среднее выборочное хоккеисты: 178.66666666666666\n",
            "Среднее выборочное штангисты: 172.72727272727272\n"
          ],
          "name": "stdout"
        }
      ]
    },
    {
      "cell_type": "markdown",
      "metadata": {
        "id": "OwTSQI9bfYng"
      },
      "source": [
        "Видно, что средний рост штангистов разнится от двух других групп. Проверим, что это отличие статистически значимо.\n",
        "\n",
        "Найдем среднее значение роста для всех наблюдений:"
      ]
    },
    {
      "cell_type": "code",
      "metadata": {
        "id": "X8SmX9VXe6NT",
        "outputId": "cc0f3108-c907-4cab-884f-27d8db31b266",
        "colab": {
          "base_uri": "https://localhost:8080/",
          "height": 35
        }
      },
      "source": [
        "all = np.concatenate([football, hockey, athletes])\n",
        "all_mean = np.mean(all)\n",
        "print(f'Среднее выборочное по всем: {all_mean}')"
      ],
      "execution_count": 4,
      "outputs": [
        {
          "output_type": "stream",
          "text": [
            "Среднее выборочное по всем: 176.46428571428572\n"
          ],
          "name": "stdout"
        }
      ]
    },
    {
      "cell_type": "markdown",
      "metadata": {
        "id": "7f0Xb-RUgayG"
      },
      "source": [
        "Найдем $S^2$ — сумму квадратов отклонений наблюдений от общего среднего:"
      ]
    },
    {
      "cell_type": "code",
      "metadata": {
        "id": "mHDvhpBrf8aA",
        "outputId": "5b2b49a2-0e06-4f72-ccef-41f223341140",
        "colab": {
          "base_uri": "https://localhost:8080/",
          "height": 35
        }
      },
      "source": [
        "s2 = np.sum((all - all_mean)**2)\n",
        "print(f'Cумма квадратов отклонений наблюдений от общего среднего: {s2}')"
      ],
      "execution_count": 5,
      "outputs": [
        {
          "output_type": "stream",
          "text": [
            "Cумма квадратов отклонений наблюдений от общего среднего: 830.9642857142854\n"
          ],
          "name": "stdout"
        }
      ]
    },
    {
      "cell_type": "markdown",
      "metadata": {
        "id": "2I5RzLQkjwYa"
      },
      "source": [
        "Найдем $S^2_F$ - сумму квадратов отклонений средних групповых значений от общего среднего:"
      ]
    },
    {
      "cell_type": "code",
      "metadata": {
        "id": "OE9Y8uQIjim6",
        "outputId": "66c409aa-4d39-4059-97ca-c56aee957c43",
        "colab": {
          "base_uri": "https://localhost:8080/",
          "height": 35
        }
      },
      "source": [
        "s2_f = ((football_mean - all_mean)**2) * len(football) \\\n",
        "+ ((hockey_mean - all_mean)**2) * len(hockey) \\\n",
        "+ ((athletes_mean - all_mean)**2) * len(athletes)\n",
        "\n",
        "print(f'Cумма квадратов отклонений средних групповых значений от общего среднего: {s2_f}')"
      ],
      "execution_count": 6,
      "outputs": [
        {
          "output_type": "stream",
          "text": [
            "Cумма квадратов отклонений средних групповых значений от общего среднего: 253.9074675324678\n"
          ],
          "name": "stdout"
        }
      ]
    },
    {
      "cell_type": "markdown",
      "metadata": {
        "id": "g-v7quPwktvq"
      },
      "source": [
        "Найдем $S^2_{ost}$ — остаточную сумму квадратов отклонений:"
      ]
    },
    {
      "cell_type": "code",
      "metadata": {
        "id": "XbM00CVGkGEk",
        "outputId": "2f19d45b-c8d6-4659-eb76-b577d72b28c4",
        "colab": {
          "base_uri": "https://localhost:8080/",
          "height": 35
        }
      },
      "source": [
        "s2_ost = np.sum((football - football_mean)**2) + \\\n",
        "np.sum((hockey - hockey_mean)**2) + \\\n",
        "np.sum((athletes - athletes_mean)**2)\n",
        "print(f'Остаточная сумма квадратов отклонений: {s2_ost}')"
      ],
      "execution_count": 7,
      "outputs": [
        {
          "output_type": "stream",
          "text": [
            "Остаточная сумма квадратов отклонений: 577.0568181818182\n"
          ],
          "name": "stdout"
        }
      ]
    },
    {
      "cell_type": "markdown",
      "metadata": {
        "id": "fuPXJXxzmKQf"
      },
      "source": [
        "Найдем факторную дисперсию:"
      ]
    },
    {
      "cell_type": "code",
      "metadata": {
        "id": "6S6_vgUzlkzs",
        "outputId": "f5278d57-25a7-46cd-c7ac-d4d68ffe216b",
        "colab": {
          "base_uri": "https://localhost:8080/",
          "height": 35
        }
      },
      "source": [
        "sigma2_f = s2_f / (C - 1)\n",
        "sigma2_f"
      ],
      "execution_count": 8,
      "outputs": [
        {
          "output_type": "execute_result",
          "data": {
            "text/plain": [
              "126.9537337662339"
            ]
          },
          "metadata": {
            "tags": []
          },
          "execution_count": 8
        }
      ]
    },
    {
      "cell_type": "markdown",
      "metadata": {
        "id": "jHduNwEIUFwA"
      },
      "source": [
        "Найдем остаточную дисперсию:\n"
      ]
    },
    {
      "cell_type": "code",
      "metadata": {
        "id": "RyEmTM35UE6L",
        "outputId": "b4fdd197-dbcb-45e4-84cc-d217786e5ba8",
        "colab": {
          "base_uri": "https://localhost:8080/",
          "height": 35
        }
      },
      "source": [
        "sigma2_ost = s2_ost / (N - C)\n",
        "sigma2_ost"
      ],
      "execution_count": 9,
      "outputs": [
        {
          "output_type": "execute_result",
          "data": {
            "text/plain": [
              "23.08227272727273"
            ]
          },
          "metadata": {
            "tags": []
          },
          "execution_count": 9
        }
      ]
    },
    {
      "cell_type": "markdown",
      "metadata": {
        "id": "r4yRCAM1UQQR"
      },
      "source": [
        "Вычислим $F_H$:"
      ]
    },
    {
      "cell_type": "code",
      "metadata": {
        "id": "yneEGRlOUQpt",
        "outputId": "ce0e40d4-def5-46f5-8004-dfcedad3b41f",
        "colab": {
          "base_uri": "https://localhost:8080/",
          "height": 35
        }
      },
      "source": [
        "F_h = sigma2_f / sigma2_ost\n",
        "F_h"
      ],
      "execution_count": 10,
      "outputs": [
        {
          "output_type": "execute_result",
          "data": {
            "text/plain": [
              "5.500053450812598"
            ]
          },
          "metadata": {
            "tags": []
          },
          "execution_count": 10
        }
      ]
    },
    {
      "cell_type": "markdown",
      "metadata": {
        "id": "QNWGRo9lUfJy"
      },
      "source": [
        "Найдем значение $F_{crit}$ в таблице критических точек распределения Фишера-Снедекора для заданного уровня значимости $\\alpha = 0.05$ и двух степеней свободы: \n",
        "\n",
        "$df_{between} = k - 1 = 3 - 1 = 2$ и $df_{inside} = n - k = 28 - 3 = 25$."
      ]
    },
    {
      "cell_type": "markdown",
      "metadata": {
        "id": "pNC2ptTHVMfx"
      },
      "source": [
        "Для данных значений $F_{crit} = 3.38$. Так как $F_H > F_{crit}$, различие среднего роста в трех группах статистически значимо."
      ]
    },
    {
      "cell_type": "markdown",
      "metadata": {
        "id": "QeKpm__Ea5qC"
      },
      "source": [
        "Перепроверим расчеты с помощью библиотеки scipy"
      ]
    },
    {
      "cell_type": "code",
      "metadata": {
        "id": "yTnZVgUUUpTT"
      },
      "source": [
        "import scipy.stats as stats\n",
        "import pandas as pd\n"
      ],
      "execution_count": 11,
      "outputs": []
    },
    {
      "cell_type": "code",
      "metadata": {
        "id": "Wb16XLz4V0Iq",
        "outputId": "7295dc80-27c9-4d69-cd6d-229b033a264e",
        "colab": {
          "base_uri": "https://localhost:8080/",
          "height": 35
        }
      },
      "source": [
        "stats.f_oneway(football,hockey,athletes)"
      ],
      "execution_count": 12,
      "outputs": [
        {
          "output_type": "execute_result",
          "data": {
            "text/plain": [
              "F_onewayResult(statistic=5.500053450812596, pvalue=0.010482206918698694)"
            ]
          },
          "metadata": {
            "tags": []
          },
          "execution_count": 12
        }
      ]
    },
    {
      "cell_type": "code",
      "metadata": {
        "id": "XISbKzO5cRfN"
      },
      "source": [
        ""
      ],
      "execution_count": 12,
      "outputs": []
    }
  ]
}