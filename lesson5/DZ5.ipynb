{
  "nbformat": 4,
  "nbformat_minor": 0,
  "metadata": {
    "colab": {
      "name": "DZ5.ipynb",
      "provenance": [],
      "collapsed_sections": []
    },
    "kernelspec": {
      "name": "python3",
      "display_name": "Python 3"
    }
  },
  "cells": [
    {
      "cell_type": "markdown",
      "metadata": {
        "id": "S4Jt8bRT4zZJ",
        "colab_type": "text"
      },
      "source": [
        "##Задание 1\n",
        "Известно, что генеральная совокупность распределена нормально со средним квадратическим отклонением, равным `16`. Найти доверительный интервал для оценки математического ожидания a с надежностью `0.95`, если выборочная средняя M = `80`, а объем выборки n = `256`."
      ]
    },
    {
      "cell_type": "markdown",
      "metadata": {
        "id": "q_UGl5Ka8oa-",
        "colab_type": "text"
      },
      "source": [
        "Нам известны:\n",
        "$$M=80\\\\\\sigma=16\\\\n=256$$"
      ]
    },
    {
      "cell_type": "markdown",
      "metadata": {
        "id": "evFyLKpv-zPv",
        "colab_type": "text"
      },
      "source": [
        "Так как нам известно средне квадратичное отклонение, будем использовать критерий Z.\n",
        "\n",
        "Найдем доверительный интервал по формуле :\n",
        "$$M\\pm (1.96*\\frac{\\sigma}{\\sqrt{n}})$$"
      ]
    },
    {
      "cell_type": "markdown",
      "metadata": {
        "id": "I2WPi737_3CH",
        "colab_type": "text"
      },
      "source": [
        "$$80 \\pm (1.96*\\frac{16}{\\sqrt{256}})=80\\pm(1.96*\\frac{16}{16})=80\\pm1.96$$"
      ]
    },
    {
      "cell_type": "markdown",
      "metadata": {
        "id": "_zUH5bSZAbHr",
        "colab_type": "text"
      },
      "source": [
        "Получаем интервал: [78.04;81.96]"
      ]
    },
    {
      "cell_type": "markdown",
      "metadata": {
        "id": "HJZog-jxAt_w",
        "colab_type": "text"
      },
      "source": [
        "##Задание 2\n",
        "В результате `10` независимых измерений некоторой величины `X`, выполненных с одинаковой точностью, получены опытные данные: `6.9, 6.1, 6.2, 6.8, 7.5, 6.3, 6.4, 6.9, 6.7, 6.1` Предполагая, что результаты измерений подчинены нормальному закону распределения вероятностей, оценить истинное значение величины X при помощи доверительного интервала, покрывающего это значение с доверительной вероятностью `0,95`."
      ]
    },
    {
      "cell_type": "markdown",
      "metadata": {
        "id": "0Ws2aXZ-Bzv5",
        "colab_type": "text"
      },
      "source": [
        "Так как нам не известно средне квадратичное отклонение генеральной совокупности, будем использовать критерий Стьюдента и формулу:\n",
        "$$M\\pm (t_\\frac{\\alpha}{2}*\\frac{\\sigma}{\\sqrt{n}})$$"
      ]
    },
    {
      "cell_type": "markdown",
      "metadata": {
        "id": "mrxSz7riCsTx",
        "colab_type": "text"
      },
      "source": [
        "Найдем M:\n",
        "$$M= 6.59 $$"
      ]
    },
    {
      "cell_type": "code",
      "metadata": {
        "id": "z-d8msfX5U0i",
        "colab_type": "code",
        "colab": {
          "base_uri": "https://localhost:8080/",
          "height": 35
        },
        "outputId": "ec732c45-44b9-42a5-89f6-07d9dd0790b6"
      },
      "source": [
        "import numpy as np\n",
        "np.mean([6.9, 6.1, 6.2, 6.8, 7.5, 6.3, 6.4, 6.9, 6.7, 6.1])"
      ],
      "execution_count": 4,
      "outputs": [
        {
          "output_type": "execute_result",
          "data": {
            "text/plain": [
              "6.590000000000001"
            ]
          },
          "metadata": {
            "tags": []
          },
          "execution_count": 4
        }
      ]
    },
    {
      "cell_type": "markdown",
      "metadata": {
        "id": "P7CVJ_6FDQls",
        "colab_type": "text"
      },
      "source": [
        "Найдем $ \\sigma $ среднеквадратического несмещенное отклонение для выборки\n"
      ]
    },
    {
      "cell_type": "markdown",
      "metadata": {
        "id": "mZJTAc-EGcLF",
        "colab_type": "text"
      },
      "source": [
        "$$\\sigma= 0.45$$"
      ]
    },
    {
      "cell_type": "code",
      "metadata": {
        "id": "wOjZNAUTC-pf",
        "colab_type": "code",
        "colab": {
          "base_uri": "https://localhost:8080/",
          "height": 35
        },
        "outputId": "0dd85fed-2110-4b87-8c04-6ef7fa25c262"
      },
      "source": [
        "np.std([6.9, 6.1, 6.2, 6.8, 7.5, 6.3, 6.4, 6.9, 6.7, 6.1],ddof=1)"
      ],
      "execution_count": 5,
      "outputs": [
        {
          "output_type": "execute_result",
          "data": {
            "text/plain": [
              "0.4508017549014448"
            ]
          },
          "metadata": {
            "tags": []
          },
          "execution_count": 5
        }
      ]
    },
    {
      "cell_type": "markdown",
      "metadata": {
        "id": "jDFHUVNPGskZ",
        "colab_type": "text"
      },
      "source": [
        "Мы знаем $\\alpha = 0.05$ и что у нас 9 степеней свободы найдем по t-таблице значение для критерия"
      ]
    },
    {
      "cell_type": "markdown",
      "metadata": {
        "id": "fM0pzWiXHZYr",
        "colab_type": "text"
      },
      "source": [
        "$$t_\\frac{\\alpha}{2}=2.262$$"
      ]
    },
    {
      "cell_type": "markdown",
      "metadata": {
        "id": "SWBQeSJtIVOA",
        "colab_type": "text"
      },
      "source": [
        "Подставляем все в формулу:\n",
        "$$M\\pm (t_\\frac{\\alpha}{2}*\\frac{\\sigma}{\\sqrt{n}})= 6.59\\pm(2.262*\\frac{0.45}{\\sqrt{10}})=6.59\\pm0.32$$"
      ]
    },
    {
      "cell_type": "markdown",
      "metadata": {
        "id": "kYBnZpu9KH7b",
        "colab_type": "text"
      },
      "source": [
        "Получаем интервал: [6,27;6,91]"
      ]
    },
    {
      "cell_type": "code",
      "metadata": {
        "id": "PAGRSGUMGaNK",
        "colab_type": "code",
        "colab": {
          "base_uri": "https://localhost:8080/",
          "height": 35
        },
        "outputId": "d96ddef0-e98e-46e0-d6d6-62cb98b8775a"
      },
      "source": [
        "2.262*(0.45/np.sqrt(10))"
      ],
      "execution_count": 7,
      "outputs": [
        {
          "output_type": "execute_result",
          "data": {
            "text/plain": [
              "0.3218882430285393"
            ]
          },
          "metadata": {
            "tags": []
          },
          "execution_count": 7
        }
      ]
    },
    {
      "cell_type": "markdown",
      "metadata": {
        "id": "koksjJzWKaUr",
        "colab_type": "text"
      },
      "source": [
        "##Задание 3\n",
        "Утверждается, что шарики для подшипников, изготовленные автоматическим станком, имеют средний диаметр `17 мм`.\n",
        "Используя односторонний критерий с `α=0,05`, проверить эту гипотезу, если в выборке из `n=100` шариков средний диаметр\n",
        "оказался равным `17.5 мм`, а дисперсия известна и равна `4 кв.мм`."
      ]
    },
    {
      "cell_type": "markdown",
      "metadata": {
        "id": "Wp-pH4nJK186",
        "colab_type": "text"
      },
      "source": [
        "Гипотеза $H_0 : \\mu = \\mu_0$\n",
        "\n",
        "Гипотеза $H_1 : \\mu > \\mu_0$\n",
        "\n",
        "Нам дано:\n",
        "\n",
        "$\\mu_0 = 17$\n",
        "\n",
        "$\\alpha =0.05$\n",
        "\n",
        "$\\sigma = 2$\n"
      ]
    },
    {
      "cell_type": "markdown",
      "metadata": {
        "id": "5segAaTOL54p",
        "colab_type": "text"
      },
      "source": [
        "Так как нам известна сигма, будем использовать Z критерий\n",
        "Сравним Z табличное и Z наблюдаемое\n",
        "\n",
        "$$Z_t = 1.645\\\\Z_n = \\frac{\\mu-\\mu_0}{\\frac{2}{\\sqrt{100}}}=2.5$$\n"
      ]
    },
    {
      "cell_type": "markdown",
      "metadata": {
        "id": "qJU2hjSjN9C8",
        "colab_type": "text"
      },
      "source": [
        "Делаем вывод, что гипотеза $H_0$ не верна на уровне значимости $\\alpha=0,05$"
      ]
    },
    {
      "cell_type": "code",
      "metadata": {
        "id": "zHjUIxQ_Kd5H",
        "colab_type": "code",
        "colab": {
          "base_uri": "https://localhost:8080/",
          "height": 35
        },
        "outputId": "273bfedb-6ac3-4675-8b5e-1ada5554a166"
      },
      "source": [
        "(17.5-17)/(2/10)"
      ],
      "execution_count": 8,
      "outputs": [
        {
          "output_type": "execute_result",
          "data": {
            "text/plain": [
              "2.5"
            ]
          },
          "metadata": {
            "tags": []
          },
          "execution_count": 8
        }
      ]
    },
    {
      "cell_type": "code",
      "metadata": {
        "id": "EXf4hf36NkjL",
        "colab_type": "code",
        "colab": {}
      },
      "source": [
        ""
      ],
      "execution_count": null,
      "outputs": []
    },
    {
      "cell_type": "markdown",
      "metadata": {
        "id": "hVyU6PcQOoUf",
        "colab_type": "text"
      },
      "source": [
        "##Задание 4\n",
        "Продавец утверждает, что средний вес пачки печенья составляет 200 г. Из партии извлечена выборка из 10 пачек. Вес каждой пачки составляет: 202, 203, 199, 197, 195, 201, 200, 204, 194, 190. Известно, что их веса распределены нормально. Верно ли утверждение продавца, если учитывать, что доверительная вероятность равна 99%?"
      ]
    },
    {
      "cell_type": "markdown",
      "metadata": {
        "id": "u0jAMo3mP7xE",
        "colab_type": "text"
      },
      "source": [
        "Гипотеза $H_0 : \\mu = \\mu_0$\n",
        "\n",
        "Гипотеза $H_1 : \\mu \\ne \\mu_0$"
      ]
    },
    {
      "cell_type": "markdown",
      "metadata": {
        "id": "gJhF43QbQIOA",
        "colab_type": "text"
      },
      "source": [
        "$\\mu_0 = 200$\n",
        "\n",
        "$\\mu = 198.5$\n",
        "\n",
        "$\\sigma = 4.45$"
      ]
    },
    {
      "cell_type": "code",
      "metadata": {
        "id": "ovF4fJEGOrUb",
        "colab_type": "code",
        "colab": {
          "base_uri": "https://localhost:8080/",
          "height": 35
        },
        "outputId": "b88a7229-556e-4b87-81af-56884e2bb167"
      },
      "source": [
        "np.mean([202, 203, 199, 197, 195, 201, 200, 204, 194, 190])"
      ],
      "execution_count": 9,
      "outputs": [
        {
          "output_type": "execute_result",
          "data": {
            "text/plain": [
              "198.5"
            ]
          },
          "metadata": {
            "tags": []
          },
          "execution_count": 9
        }
      ]
    },
    {
      "cell_type": "code",
      "metadata": {
        "id": "VGH-NcCMQYC6",
        "colab_type": "code",
        "colab": {
          "base_uri": "https://localhost:8080/",
          "height": 35
        },
        "outputId": "b38fa877-d85e-4279-870d-77ed651c199d"
      },
      "source": [
        "np.std([202, 203, 199, 197, 195, 201, 200, 204, 194, 190],ddof=1)"
      ],
      "execution_count": 10,
      "outputs": [
        {
          "output_type": "execute_result",
          "data": {
            "text/plain": [
              "4.453463071962462"
            ]
          },
          "metadata": {
            "tags": []
          },
          "execution_count": 10
        }
      ]
    },
    {
      "cell_type": "markdown",
      "metadata": {
        "id": "d-i7Vd4JQrj9",
        "colab_type": "text"
      },
      "source": [
        "Сравним t табличное и t наблюдаемое:\n",
        "\n",
        "$t = \\pm3.250$\n",
        "\n",
        "$t_n = \\frac{\\mu-\\mu_0}{\\frac{4.45}{\\sqrt{10}}}= -1.066$"
      ]
    },
    {
      "cell_type": "code",
      "metadata": {
        "id": "G2zkSPMLQgOI",
        "colab_type": "code",
        "colab": {
          "base_uri": "https://localhost:8080/",
          "height": 35
        },
        "outputId": "ef35380c-a132-4203-adf3-b4970dc56952"
      },
      "source": [
        "(198.5-200)/(4.45/np.sqrt(10))"
      ],
      "execution_count": 12,
      "outputs": [
        {
          "output_type": "execute_result",
          "data": {
            "text/plain": [
              "-1.0659362899443976"
            ]
          },
          "metadata": {
            "tags": []
          },
          "execution_count": 12
        }
      ]
    },
    {
      "cell_type": "markdown",
      "metadata": {
        "id": "R-8GFUnDULPa",
        "colab_type": "text"
      },
      "source": [
        "$H_0$ верна так, как $t_n$ не больше 3.250, и не меньше -3.250, при $\\alpha = 0.01$"
      ]
    },
    {
      "cell_type": "code",
      "metadata": {
        "id": "BdOZjYReS-8L",
        "colab_type": "code",
        "colab": {}
      },
      "source": [
        ""
      ],
      "execution_count": null,
      "outputs": []
    }
  ]
}