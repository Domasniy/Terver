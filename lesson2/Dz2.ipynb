{
  "nbformat": 4,
  "nbformat_minor": 0,
  "metadata": {
    "colab": {
      "name": "Dz2.ipynb",
      "provenance": [],
      "collapsed_sections": []
    },
    "kernelspec": {
      "name": "python3",
      "display_name": "Python 3"
    }
  },
  "cells": [
    {
      "cell_type": "markdown",
      "metadata": {
        "id": "63t185HODCRC",
        "colab_type": "text"
      },
      "source": [
        "### Задание 1\n",
        "Вероятность того, что стрелок попадет в мишень, выстрелив один раз, равна `0.8`. Стрелок выстрелил `100` раз. Найдите вероятность того, что стрелок попадет в цель ровно `85` раз.\n"
      ]
    },
    {
      "cell_type": "markdown",
      "metadata": {
        "id": "wify0LFTEjTT",
        "colab_type": "text"
      },
      "source": [
        "Воспользуемся формулой Бернулли $P_n(X=k) = C_n^k p^k q^{n-k}$ , где n = 100, k =85, p = 0.8, q = 0.2\n",
        "\n",
        "$P_{100}(X=85) = C_{100}^{85} 0.8^{85} 0.2^{15} $"
      ]
    },
    {
      "cell_type": "code",
      "metadata": {
        "id": "9DC2tlQYC_qp",
        "colab_type": "code",
        "colab": {}
      },
      "source": [
        "import numpy as np\n",
        "#Вспомогательная функция подсчета сочетаний\n",
        "def combinations(n, k):\n",
        "    return int(np.math.factorial(n) / (np.math.factorial(k) * np.math.factorial(n - k)))\n"
      ],
      "execution_count": 1,
      "outputs": []
    },
    {
      "cell_type": "code",
      "metadata": {
        "id": "w7-cjwwMIJ6x",
        "colab_type": "code",
        "colab": {
          "base_uri": "https://localhost:8080/",
          "height": 35
        },
        "outputId": "5fc73cf2-d10d-4a14-a77b-c861864285e2"
      },
      "source": [
        "n = 100\n",
        "k = 85 \n",
        "p = 0.8\n",
        "q = 1 - p\n",
        "\n",
        "ans = combinations(n, k) * (p**k) * (q**(n - k))\n",
        "print(f'Вероятность того, что стрелок попадет в цель ровно {k} раз из {n} выстрелов: {ans:.4f} ({ans * 100:.4f}%) ')"
      ],
      "execution_count": 2,
      "outputs": [
        {
          "output_type": "stream",
          "text": [
            "Вероятность того, что стрелок попадет в цель ровно 85 раз из 100 выстрелов: 0.0481 (4.8062%) \n"
          ],
          "name": "stdout"
        }
      ]
    },
    {
      "cell_type": "code",
      "metadata": {
        "id": "2_IYl40RI1mN",
        "colab_type": "code",
        "colab": {}
      },
      "source": [
        ""
      ],
      "execution_count": 2,
      "outputs": []
    },
    {
      "cell_type": "markdown",
      "metadata": {
        "id": "Pbeo9OVHOeU6",
        "colab_type": "text"
      },
      "source": [
        "### Задание 2\n",
        "Вероятность того, что лампочка перегорит в течение первого дня эксплуатации, равна `0.0004`. В жилом комплексе после ремонта в один день включили `5000` новых лампочек. Какова вероятность, что ни одна из них не перегорит в первый день? Какова вероятность, что перегорят ровно две?"
      ]
    },
    {
      "cell_type": "markdown",
      "metadata": {
        "id": "O1qTVItGmMdR",
        "colab_type": "text"
      },
      "source": [
        "Так как имеется большое кол-во испытаний и вероятность события мала, будем использовать формулу Пуассона: $P_m \\approx \\frac{\\lambda^m}{m!}e^{-\\lambda}$\n",
        "\n",
        "Нужно сделать два расчета для m=0(ни одна из них не перегорит), m=2(перегорит ровно две)\n",
        "\n",
        "$\\lambda=np=5000*0.0004=2$"
      ]
    },
    {
      "cell_type": "code",
      "metadata": {
        "id": "tgO1NHJZOm6S",
        "colab_type": "code",
        "colab": {
          "base_uri": "https://localhost:8080/",
          "height": 54
        },
        "outputId": "c6dc0dea-287c-4201-d2cd-e6038293e3f8"
      },
      "source": [
        "n = 5000\n",
        "p = 0.0004\n",
        "m_zero = 0 \n",
        "m_dve = 2\n",
        "lm = n * p\n",
        "zero_lamp = (lm**m_zero/np.math.factorial(m_zero))*np.exp(-lm)\n",
        "dve_lamp = (lm**m_dve/np.math.factorial(m_dve))*np.exp(-lm)\n",
        "print(f'Вероятность, что ни одна из них не перегорит в первый день: {zero_lamp:.4f} ({zero_lamp*100:.4f}%)')\n",
        "print(f'Вероятность, что перегорят ровно 2 лампочки в первый день: {dve_lamp:.4f} ({dve_lamp*100:.4f}%)')"
      ],
      "execution_count": 3,
      "outputs": [
        {
          "output_type": "stream",
          "text": [
            "Вероятность, что ни одна из них не перегорит в первый день: 0.1353 (13.5335%)\n",
            "Вероятность, что перегорят ровно 2 лампочки в первый день: 0.2707 (27.0671%)\n"
          ],
          "name": "stdout"
        }
      ]
    },
    {
      "cell_type": "code",
      "metadata": {
        "id": "R1oC1cleqhuN",
        "colab_type": "code",
        "colab": {}
      },
      "source": [
        ""
      ],
      "execution_count": 3,
      "outputs": []
    },
    {
      "cell_type": "markdown",
      "metadata": {
        "id": "60e1TUfHryyh",
        "colab_type": "text"
      },
      "source": [
        "### Задание 3\n",
        "Монету подбросили `144` раза. Какова вероятность, что орел выпадет ровно `70` раз?"
      ]
    },
    {
      "cell_type": "code",
      "metadata": {
        "id": "9iKIVBNIr4yp",
        "colab_type": "code",
        "colab": {
          "base_uri": "https://localhost:8080/",
          "height": 35
        },
        "outputId": "20fb4ac1-678a-45f4-83e1-a77de0320342"
      },
      "source": [
        "n = 144\n",
        "k = 70 \n",
        "p = 0.5\n",
        "q = 1 - p\n",
        "\n",
        "ans = combinations(n, k) * (p**k) * (q**(n - k))\n",
        "print(f'Вероятность того, что выпадет орел ровно {k} раз из {n} подбросов: {ans:.4f} ({ans * 100:.4f}%) ')"
      ],
      "execution_count": 4,
      "outputs": [
        {
          "output_type": "stream",
          "text": [
            "Вероятность того, что выпадет орел ровно 70 раз из 144 подбросов: 0.0628 (6.2812%) \n"
          ],
          "name": "stdout"
        }
      ]
    },
    {
      "cell_type": "code",
      "metadata": {
        "id": "93uJowhnuF0V",
        "colab_type": "code",
        "colab": {}
      },
      "source": [
        ""
      ],
      "execution_count": 4,
      "outputs": []
    },
    {
      "cell_type": "markdown",
      "metadata": {
        "id": "fZRTGZv9uVBF",
        "colab_type": "text"
      },
      "source": [
        "### Задание 4\n",
        "В первом ящике находится `10` мячей, из которых `7` - белые. Во втором ящике - `11` мячей, из которых `9` белых. Из каждого ящика вытаскивают случайным образом по два мяча. Какова вероятность того, что все мячи белые? Какова вероятность того, что ровно два мяча белые? Какова вероятность того, что хотя бы один мяч белый?"
      ]
    },
    {
      "cell_type": "code",
      "metadata": {
        "id": "T1IB42mkudoA",
        "colab_type": "code",
        "colab": {
          "base_uri": "https://localhost:8080/",
          "height": 35
        },
        "outputId": "fe6675ce-4014-42fd-ef43-f131f5ba88c8"
      },
      "source": [
        "print(f'Вероятность того, что все мячи белые: {(7/10)*(6/9)*(9/11)*(8/10):.4f}({(7/10)*(6/9)*(9/11)*(8/10):.4f})')"
      ],
      "execution_count": 5,
      "outputs": [
        {
          "output_type": "stream",
          "text": [
            "Вероятность того, что все мячи белые: 0.3055(0.3055)\n"
          ],
          "name": "stdout"
        }
      ]
    },
    {
      "cell_type": "markdown",
      "metadata": {
        "id": "i3JhXOyL-PE4",
        "colab_type": "text"
      },
      "source": [
        "Какова вероятность того, что ровно два мяча белые?\n",
        "Всего 3 варианта как вытащить ровно два белых мяча из урн:\n",
        ">Первая урна | Вторая урна\n",
        ">--- | ---\n",
        ">2 белых | 0 белых\n",
        ">1 белый| 1 белый\n",
        ">0 белых| 2 белых"
      ]
    },
    {
      "cell_type": "code",
      "metadata": {
        "id": "7piSmyUbvnA_",
        "colab_type": "code",
        "colab": {}
      },
      "source": [
        "#первый вариант\n",
        "var1 = (7/10)*(6/9)*(2/11)*(1/10)"
      ],
      "execution_count": 6,
      "outputs": []
    },
    {
      "cell_type": "code",
      "metadata": {
        "id": "EATKsuoFxKt3",
        "colab_type": "code",
        "colab": {}
      },
      "source": [
        "#второй вариант, считаем по каждой урне P когда первый шар белый, а второй нет и наоборот,\n",
        "#складываем вероятность и получаем вероятность вытащить только один белый в урне. \n",
        "#Далее как и в первом варианте перемножаем вероятности события для обоих урн\n",
        "var2 = ((7/10)*(3/9)+(3/10)*(7/9))*((9/11)*(2/10)+(2/11)*(9/10))"
      ],
      "execution_count": 7,
      "outputs": []
    },
    {
      "cell_type": "code",
      "metadata": {
        "id": "_mHZwYK3NLuO",
        "colab_type": "code",
        "colab": {}
      },
      "source": [
        "#третий вариант\n",
        "var3 = (3/10)*(2/9)*(9/11)*(8/10)"
      ],
      "execution_count": 8,
      "outputs": []
    },
    {
      "cell_type": "code",
      "metadata": {
        "id": "dAj-Pb9zPG9j",
        "colab_type": "code",
        "colab": {
          "base_uri": "https://localhost:8080/",
          "height": 35
        },
        "outputId": "e05e1c34-d376-4c22-9ea2-9c60660bd182"
      },
      "source": [
        "print(f'вероятность того, что ровно два мяча белые: {var1+var2+var3:.4f}')"
      ],
      "execution_count": 9,
      "outputs": [
        {
          "output_type": "stream",
          "text": [
            "вероятность того, что ровно два мяча белые: 0.2048\n"
          ],
          "name": "stdout"
        }
      ]
    },
    {
      "cell_type": "markdown",
      "metadata": {
        "id": "ja1aXePGPawl",
        "colab_type": "text"
      },
      "source": [
        "Какова вероятность того, что хотя бы один мяч белый?\n",
        "\n",
        "Посчитаем вероятность что все мячи будут не белые:"
      ]
    },
    {
      "cell_type": "code",
      "metadata": {
        "id": "tYLyLQ2iPSl0",
        "colab_type": "code",
        "colab": {
          "base_uri": "https://localhost:8080/",
          "height": 35
        },
        "outputId": "123a60cd-d2e9-42f6-c4a6-7885dc1c53bf"
      },
      "source": [
        "not_white = (3/10)*(2/9)*(2/11)*(1/10)\n",
        "print(f'Вероятность того, что все мячи не белые: {not_white:.4f}')"
      ],
      "execution_count": 10,
      "outputs": [
        {
          "output_type": "stream",
          "text": [
            "Вероятность того, что все мячи не белые: 0.0012\n"
          ],
          "name": "stdout"
        }
      ]
    },
    {
      "cell_type": "markdown",
      "metadata": {
        "id": "dGfFnNTKSanl",
        "colab_type": "text"
      },
      "source": [
        "Следовательно вероятность хоть одного белого мяча $1 - P(все не белые)$"
      ]
    },
    {
      "cell_type": "code",
      "metadata": {
        "id": "nUya_lynSXYw",
        "colab_type": "code",
        "colab": {
          "base_uri": "https://localhost:8080/",
          "height": 35
        },
        "outputId": "7e3a18aa-da2f-4ef2-dd04-9d44ee509721"
      },
      "source": [
        "print(f'Вероятность того, что хотя бы один мяч белый: {1-not_white:.4f}')"
      ],
      "execution_count": 11,
      "outputs": [
        {
          "output_type": "stream",
          "text": [
            "Вероятность того, что хотя бы один мяч белый: 0.9988\n"
          ],
          "name": "stdout"
        }
      ]
    },
    {
      "cell_type": "code",
      "metadata": {
        "id": "-8RWSOhiS4iF",
        "colab_type": "code",
        "colab": {}
      },
      "source": [
        ""
      ],
      "execution_count": 11,
      "outputs": []
    }
  ]
}